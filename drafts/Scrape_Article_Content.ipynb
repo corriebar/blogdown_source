{
 "cells": [
  {
   "cell_type": "code",
   "execution_count": 1,
   "metadata": {},
   "outputs": [],
   "source": [
    "from newspaper import Article\n",
    "from newspaper.outputformatters import OutputFormatter\n",
    "from newspaper.configuration import Configuration\n",
    "\n",
    "from urllib.parse import urlsplit\n",
    "\n",
    "\n",
    "import re"
   ]
  },
  {
   "cell_type": "code",
   "execution_count": 2,
   "metadata": {},
   "outputs": [],
   "source": [
    "conf = Configuration()"
   ]
  },
  {
   "cell_type": "code",
   "execution_count": 3,
   "metadata": {},
   "outputs": [],
   "source": [
    "conf.keep_article_html = True"
   ]
  },
  {
   "cell_type": "code",
   "execution_count": 4,
   "metadata": {},
   "outputs": [
    {
     "data": {
      "text/plain": [
       "True"
      ]
     },
     "execution_count": 4,
     "metadata": {},
     "output_type": "execute_result"
    }
   ],
   "source": [
    "conf.keep_article_html"
   ]
  },
  {
   "cell_type": "code",
   "execution_count": 5,
   "metadata": {},
   "outputs": [],
   "source": [
    "unz_url = \"http://www.unz.com/pgiraldi/the-international-zionist-conspiracy/\"\n",
    "sf_url = \"https://southfront.org/philip-m-giraldi-the-international-zionist-conspiracy/\"\n",
    "unz_article = Article(unz_url, keep_article_html=True)\n",
    "sf_article = Article(sf_url, keep_article_html=True)"
   ]
  },
  {
   "cell_type": "code",
   "execution_count": 6,
   "metadata": {},
   "outputs": [],
   "source": [
    "test_article1_l = [\"https://oneworld.press/?module=articles&action=view&id=1257\"]\n",
    "test_article2_l = [\"https://southfront.org/how-and-why-iran-shot-down-ukrainian-boeing/\"]\n",
    "test_article3_l = [\"https://www.bbc.com/news/world-middle-east-51042326\"]"
   ]
  },
  {
   "cell_type": "code",
   "execution_count": 7,
   "metadata": {},
   "outputs": [],
   "source": [
    "link_list_en = list(set([\"https://www.strategic-culture.org/news/2020/01/21/poles-and-jews-before-wwii/\",\n",
    "             \"https://orientalreview.org/2020/01/20/heres-why-iran-stopped-covering-up-its-role-in-the-uia-752-tragedy/\",\n",
    "             \"https://journal-neo.org/2020/01/20/pompeo-new-us-policy-authorized-drones-strikes-on-russian-chinese-leaders/\",\n",
    "             \"https://www.rt.com/news/478734-ukraine-trident-uk-terrorism/\",\n",
    "             \"https://southfront.org/western-doublespeak-towards-ukrainian-conflict/\",\n",
    "             \"https://www.rt.com/news/478610-russia-fight-history-distortion-putin/\",\n",
    "             \"https://www.rt.com/shows/news/478504-rtnews-january-17-17msk/\",\n",
    "             \"https://sputniknews.com/military/202001171078061694-declassified-wwii-americans-brits-killed-polish-death-camp/\",\n",
    "             \"https://www.fort-russ.com/2020/01/ishchenko-jews-and-the-holocaust-as-ukraines-way-of-life/\",\n",
    "             \"https://www.fort-russ.com/2020/01/texas-iranian-flight-crash-facts-not-adding-up/\",\n",
    "             \"https://www.theyeshivaworld.com/news/featured/1821774/pogrom-in-uman-over-shabbos-ukrainian-thugs-attack-jews-4-evacuated-to-hospitals.html\",\n",
    "             \"https://www.rt.com/shows/news/477904-rtnews-january-10-17msk/\",\n",
    "             \"https://sputniknews.com/europe/202001091077992890-polish-lawmakers-adopt-resolution-equally-blaming-germany-soviet-union-for-start-of-wwii/\",\n",
    "             \"https://www.rt.com/shows/news/477622-rtnews-january-07-17msk/\",\n",
    "             \"https://oneworld.press/?module=articles&action=view&id=1241\",\n",
    "             \"https://orientalreview.org/2020/01/07/latest-mh17-documentary-shares-some-shocking-truths/\",\n",
    "             \"https://www.strategic-culture.org/news/2019/12/28/western-campaign-against-orthodox-church-turns-to-montenegro/\",\n",
    "             \"https://russia-insider.com/en/western-campaign-against-orthodox-church-turns-montenegro/ri28125\",\n",
    "             \"https://sputniknews.com/europe/201912191077630056-Putin-Says-Russia-Will-Do-Everything-to-Support-Sputniks-Work-Abroad/\",\n",
    "             \"https://www.rt.com/news/476141-nato-drills-war-scenario/\",\n",
    "             \"https://web.archive.org/web/20200116041701/http://webcache.googleusercontent.com/search?q=cache:nxzKIeN-cZMJ:thejewishlink.com/pogrom-in-uman-over-shabbos-ukrainian-thugs-attack-jews-4-evacuated-to-hospitals/+&cd=3&hl=ru&ct=clnk&gl=ua\"\n",
    "               ]))\n",
    "\n",
    "link_list_ru = set([\"https://news-front.info/2019/12/17/ukraina-mozhet-pogruzitsya-v-gomodiktaturu/\",\n",
    "                \"https://sputnik-georgia.ru/video/20200119/247517930/V-Moskve-dali-salyut-v-chest-75-y-godovschiny-osvobozhdeniya-Varshavy.html\",\n",
    "                \"https://www.rbc.ru/rbcfreenews/5e20d5789a7947857c0c8176\"\n",
    "               ])"
   ]
  },
  {
   "cell_type": "code",
   "execution_count": 8,
   "metadata": {},
   "outputs": [],
   "source": [
    "def read_url(url):\n",
    "    art = Article(url, keep_article_html=True)\n",
    "    art.download()\n",
    "    art.parse()\n",
    "    return art\n",
    "\n",
    "def base_url_from_article(article):\n",
    "    url = article.url\n",
    "    return get_base_url(url)\n",
    "\n",
    "def get_base_url(url):\n",
    "    split_url = urlsplit(url)\n",
    "    base_url = split_url.netloc\n",
    "    return base_url\n",
    "\n",
    "def read_link_list(link_list):\n",
    "    articles = []\n",
    "    for url in link_list:\n",
    "        articles.append( read_url(url) )\n",
    "    return articles"
   ]
  },
  {
   "cell_type": "code",
   "execution_count": 9,
   "metadata": {},
   "outputs": [],
   "source": [
    "articles = read_link_list(link_list_en)"
   ]
  },
  {
   "cell_type": "code",
   "execution_count": 10,
   "metadata": {},
   "outputs": [
    {
     "data": {
      "text/plain": [
       "[<newspaper.article.Article at 0x7f5ea130a550>,\n",
       " <newspaper.article.Article at 0x7f5ea136b890>,\n",
       " <newspaper.article.Article at 0x7f5ea108ae10>,\n",
       " <newspaper.article.Article at 0x7f5ea103a2d0>,\n",
       " <newspaper.article.Article at 0x7f5ea1372310>,\n",
       " <newspaper.article.Article at 0x7f5ea1046a90>,\n",
       " <newspaper.article.Article at 0x7f5ea103a510>,\n",
       " <newspaper.article.Article at 0x7f5ea1372a10>,\n",
       " <newspaper.article.Article at 0x7f5ea1056090>,\n",
       " <newspaper.article.Article at 0x7f5ea1056d90>,\n",
       " <newspaper.article.Article at 0x7f5eb8878490>,\n",
       " <newspaper.article.Article at 0x7f5ea103a690>,\n",
       " <newspaper.article.Article at 0x7f5ea106ca10>,\n",
       " <newspaper.article.Article at 0x7f5ea1045490>,\n",
       " <newspaper.article.Article at 0x7f5ebe4dd6d0>,\n",
       " <newspaper.article.Article at 0x7f5ea0ff3310>,\n",
       " <newspaper.article.Article at 0x7f5ea0ff9310>,\n",
       " <newspaper.article.Article at 0x7f5ea1066450>,\n",
       " <newspaper.article.Article at 0x7f5ea0ff39d0>,\n",
       " <newspaper.article.Article at 0x7f5ea100aad0>,\n",
       " <newspaper.article.Article at 0x7f5ea0ff33d0>]"
      ]
     },
     "execution_count": 10,
     "metadata": {},
     "output_type": "execute_result"
    }
   ],
   "source": [
    "articles"
   ]
  },
  {
   "cell_type": "code",
   "execution_count": 87,
   "metadata": {},
   "outputs": [],
   "source": [
    "base_urls = set([base_url_from_article(article) for article in articles])"
   ]
  },
  {
   "cell_type": "code",
   "execution_count": 75,
   "metadata": {},
   "outputs": [],
   "source": [
    "articles = []\n",
    "base_urls = set()\n",
    "for url in link_list_en:\n",
    "    art = Article(url, keep_article_html=True)\n",
    "    art.download()\n",
    "    art.parse()\n",
    "    articles.append(art)\n",
    "    split_url = urlsplit(url)\n",
    "    base_urls.add(split_url.netloc)"
   ]
  },
  {
   "cell_type": "code",
   "execution_count": 88,
   "metadata": {},
   "outputs": [],
   "source": [
    "base_urls.remove('web.archive.org')"
   ]
  },
  {
   "cell_type": "code",
   "execution_count": 89,
   "metadata": {},
   "outputs": [
    {
     "data": {
      "text/plain": [
       "{'journal-neo.org',\n",
       " 'oneworld.press',\n",
       " 'orientalreview.org',\n",
       " 'russia-insider.com',\n",
       " 'southfront.org',\n",
       " 'sputniknews.com',\n",
       " 'www.fort-russ.com',\n",
       " 'www.rt.com',\n",
       " 'www.strategic-culture.org',\n",
       " 'www.theyeshivaworld.com'}"
      ]
     },
     "execution_count": 89,
     "metadata": {},
     "output_type": "execute_result"
    }
   ],
   "source": [
    "base_urls"
   ]
  },
  {
   "cell_type": "code",
   "execution_count": 78,
   "metadata": {},
   "outputs": [
    {
     "data": {
      "text/plain": [
       "21"
      ]
     },
     "execution_count": 78,
     "metadata": {},
     "output_type": "execute_result"
    }
   ],
   "source": [
    "len(articles)"
   ]
  },
  {
   "cell_type": "code",
   "execution_count": 12,
   "metadata": {},
   "outputs": [
    {
     "data": {
      "text/plain": [
       "['Cechas Vodobenikov', 'Am Hants']"
      ]
     },
     "execution_count": 12,
     "metadata": {},
     "output_type": "execute_result"
    }
   ],
   "source": [
    "articles[0].authors"
   ]
  },
  {
   "cell_type": "code",
   "execution_count": 13,
   "metadata": {},
   "outputs": [
    {
     "data": {
      "text/plain": [
       "'https://southfront.org/western-doublespeak-towards-ukrainian-conflict/'"
      ]
     },
     "execution_count": 13,
     "metadata": {},
     "output_type": "execute_result"
    }
   ],
   "source": [
    "articles[0].url"
   ]
  },
  {
   "cell_type": "code",
   "execution_count": 91,
   "metadata": {},
   "outputs": [],
   "source": [
    "articles_text = [article.text for article in articles]"
   ]
  },
  {
   "cell_type": "code",
   "execution_count": 121,
   "metadata": {},
   "outputs": [],
   "source": [
    "test_articles1 = read_link_list(test_article3_l)\n",
    "\n",
    "test_articles1_text = [article.text for article in test_articles1]"
   ]
  },
  {
   "cell_type": "code",
   "execution_count": 25,
   "metadata": {},
   "outputs": [],
   "source": [
    "articles_ru = []\n",
    "for url in link_list_ru:\n",
    "    art = Article(url, keep_article_html=True)\n",
    "    art.download()\n",
    "    art.parse()\n",
    "    articles_ru.append(art)"
   ]
  },
  {
   "cell_type": "code",
   "execution_count": 26,
   "metadata": {},
   "outputs": [
    {
     "data": {
      "text/plain": [
       "[<newspaper.article.Article at 0x7f8e7f8c7d90>,\n",
       " <newspaper.article.Article at 0x7f8e7f462150>,\n",
       " <newspaper.article.Article at 0x7f8e84bcbad0>]"
      ]
     },
     "execution_count": 26,
     "metadata": {},
     "output_type": "execute_result"
    }
   ],
   "source": [
    "articles_ru"
   ]
  },
  {
   "cell_type": "code",
   "execution_count": 33,
   "metadata": {},
   "outputs": [],
   "source": [
    "from sklearn.feature_extraction.text import CountVectorizer, TfidfVectorizer"
   ]
  },
  {
   "cell_type": "code",
   "execution_count": 92,
   "metadata": {},
   "outputs": [],
   "source": [
    "tfidf = TfidfVectorizer()"
   ]
  },
  {
   "cell_type": "code",
   "execution_count": 93,
   "metadata": {},
   "outputs": [],
   "source": [
    "tfidf_vec = tfidf.fit_transform(articles_text)"
   ]
  },
  {
   "cell_type": "code",
   "execution_count": 122,
   "metadata": {},
   "outputs": [],
   "source": [
    "tfidf_test = tfidf.transform(test_articles1_text)"
   ]
  },
  {
   "cell_type": "code",
   "execution_count": 123,
   "metadata": {},
   "outputs": [
    {
     "data": {
      "text/plain": [
       "array([0.43827705, 0.38992142, 0.36433358, 0.49270493, 0.24966082,\n",
       "       0.38588573, 0.36617791, 0.50057822, 0.49283494, 0.2998851 ,\n",
       "       0.49270493, 0.40637352, 0.5409709 , 0.27275934, 0.41394773,\n",
       "       0.34205507, 0.43603442, 0.50655837, 0.5051394 , 0.50924971,\n",
       "       0.4955035 ])"
      ]
     },
     "execution_count": 123,
     "metadata": {},
     "output_type": "execute_result"
    }
   ],
   "source": [
    "from sklearn.metrics.pairwise import linear_kernel\n",
    "cosine_similarities = linear_kernel(tfidf_test, tfidf_vec).flatten()\n",
    "cosine_similarities"
   ]
  },
  {
   "cell_type": "code",
   "execution_count": 124,
   "metadata": {},
   "outputs": [
    {
     "data": {
      "text/plain": [
       "array([12, 19, 17, 18])"
      ]
     },
     "execution_count": 124,
     "metadata": {},
     "output_type": "execute_result"
    }
   ],
   "source": [
    "related_docs_indices = cosine_similarities.argsort()[:-5:-1]\n",
    "related_docs_indices"
   ]
  },
  {
   "cell_type": "code",
   "execution_count": 118,
   "metadata": {},
   "outputs": [
    {
     "data": {
      "text/plain": [
       "'https://southfront.org/western-doublespeak-towards-ukrainian-conflict/'"
      ]
     },
     "execution_count": 118,
     "metadata": {},
     "output_type": "execute_result"
    }
   ],
   "source": [
    "link_list_en[19]"
   ]
  },
  {
   "cell_type": "code",
   "execution_count": 125,
   "metadata": {},
   "outputs": [
    {
     "data": {
      "text/plain": [
       "array([0.5409709 , 0.50924971, 0.50655837, 0.5051394 ])"
      ]
     },
     "execution_count": 125,
     "metadata": {},
     "output_type": "execute_result"
    }
   ],
   "source": [
    "cosine_similarities[related_docs_indices]"
   ]
  },
  {
   "cell_type": "code",
   "execution_count": 113,
   "metadata": {},
   "outputs": [
    {
     "data": {
      "text/plain": [
       "['https://oneworld.press/?module=articles&action=view&id=1257']"
      ]
     },
     "execution_count": 113,
     "metadata": {},
     "output_type": "execute_result"
    }
   ],
   "source": [
    "test_article1_l"
   ]
  },
  {
   "cell_type": "code",
   "execution_count": 137,
   "metadata": {},
   "outputs": [],
   "source": [
    "import torch\n",
    "\n",
    "from flair.data import Sentence\n",
    "from flair.embeddings import FlairEmbeddings, DocumentPoolEmbeddings, WordEmbeddings"
   ]
  },
  {
   "cell_type": "code",
   "execution_count": 177,
   "metadata": {},
   "outputs": [],
   "source": [
    "# first, declare how you want to embed\n",
    "embeddings = DocumentPoolEmbeddings(\n",
    "    [ FlairEmbeddings('news-forward'), FlairEmbeddings('news-backward')])"
   ]
  },
  {
   "cell_type": "code",
   "execution_count": 178,
   "metadata": {},
   "outputs": [],
   "source": [
    "# your query\n",
    "query = Sentence(test_articles1_text[0][0:500])"
   ]
  },
  {
   "cell_type": "code",
   "execution_count": 179,
   "metadata": {},
   "outputs": [],
   "source": [
    "# some texts\n",
    "paragraph_1 = Sentence(articles_text[0][0:500])\n",
    "paragraph_2 = Sentence(articles_text[1][0:500])"
   ]
  },
  {
   "cell_type": "code",
   "execution_count": 180,
   "metadata": {},
   "outputs": [],
   "source": [
    "# embed everything\n",
    "embeddings.embed([ paragraph_1, paragraph_2])"
   ]
  },
  {
   "cell_type": "code",
   "execution_count": 181,
   "metadata": {},
   "outputs": [],
   "source": [
    "# use cosine distance\n",
    "cos = torch.nn.CosineSimilarity(dim=0, eps=1e-6)"
   ]
  },
  {
   "cell_type": "code",
   "execution_count": 182,
   "metadata": {},
   "outputs": [],
   "source": [
    "embeddings.embed([query])"
   ]
  },
  {
   "cell_type": "code",
   "execution_count": 183,
   "metadata": {},
   "outputs": [
    {
     "name": "stdout",
     "output_type": "stream",
     "text": [
      "tensor(0.6222, grad_fn=<DivBackward0>)\n"
     ]
    }
   ],
   "source": [
    "# get similarity between embeddings of query and paragraph 1\n",
    "similarity_to_paragraph_1 = cos(query.embedding, paragraph_1.embedding)\n",
    "print(similarity_to_paragraph_1)"
   ]
  },
  {
   "cell_type": "code",
   "execution_count": 184,
   "metadata": {},
   "outputs": [
    {
     "name": "stdout",
     "output_type": "stream",
     "text": [
      "tensor(0.6900, grad_fn=<DivBackward0>)\n"
     ]
    }
   ],
   "source": [
    "similarity_to_paragraph_2 = cos(query.embedding, paragraph_2.embedding)\n",
    "print(similarity_to_paragraph_2)"
   ]
  },
  {
   "cell_type": "code",
   "execution_count": 185,
   "metadata": {},
   "outputs": [
    {
     "data": {
      "text/plain": [
       "\"Media playback is unsupported on your device Media caption Video from the scene shows the aftermath of the crash\\n\\nIran has said it will not hand over black box flight recorders recovered from a plane that crashed with 176 people on board to manufacturer Boeing or to the US.\\n\\nThe Ukrainian Boeing 737-800 went down just minutes after taking off from Tehran's airport, leaving no survivors.\\n\\nUnder global aviation rules, Iran has the right to lead the investigation.\\n\\nBut manufacturers are typically i\""
      ]
     },
     "execution_count": 185,
     "metadata": {},
     "output_type": "execute_result"
    }
   ],
   "source": [
    "test_articles1_text[0][0:500]"
   ]
  },
  {
   "cell_type": "code",
   "execution_count": 186,
   "metadata": {},
   "outputs": [
    {
     "data": {
      "text/plain": [
       "'Moscow is to create the most extensive collection of WWII documents, open to all persons anywhere, to once and for all “shut the filthy mouth” of those seeking to rewrite history for short-term gains, the Russian president said.\\n\\nAny person, Russian or non-national, will be able to access the archive, including through a website resource, and the ultimate goal is to debunk any disinformation about the most devastating conflict in human history, President Vladimir Putin pledged, during a meeting '"
      ]
     },
     "execution_count": 186,
     "metadata": {},
     "output_type": "execute_result"
    }
   ],
   "source": [
    "articles_text[0][0:500]"
   ]
  },
  {
   "cell_type": "code",
   "execution_count": 161,
   "metadata": {},
   "outputs": [
    {
     "data": {
      "text/plain": [
       "'The increased intensity and scale of US-led NATO military exercises in the Baltics and Black Sea suggest the alliance is preparing for a major military conflict, said General Valery Gerasimov, chief of the Russian General Staff.\\n\\nNATO’s ramping up of large-scale war games in the Baltics, Poland and the Black Sea region show that it is gearing up for a major confrontation, Gerasimov said on Thursday, briefing foreign military attaches in Moscow.\\n\\n“The scenario [of the drills] point that NATO is p'"
      ]
     },
     "execution_count": 161,
     "metadata": {},
     "output_type": "execute_result"
    }
   ],
   "source": [
    "articles_text[1][0:500]"
   ]
  },
  {
   "cell_type": "code",
   "execution_count": null,
   "metadata": {},
   "outputs": [],
   "source": []
  },
  {
   "cell_type": "code",
   "execution_count": 8,
   "metadata": {},
   "outputs": [],
   "source": [
    "unz_article.download()\n",
    "sf_article.download()"
   ]
  },
  {
   "cell_type": "code",
   "execution_count": 9,
   "metadata": {},
   "outputs": [],
   "source": [
    "unz_article.parse()\n",
    "sf_article.parse()"
   ]
  },
  {
   "cell_type": "code",
   "execution_count": 10,
   "metadata": {},
   "outputs": [
    {
     "data": {
      "text/plain": [
       "['Philip Giraldi', 'Gilad Atzmon', 'Ron Unz', 'Laurent Guyénot']"
      ]
     },
     "execution_count": 10,
     "metadata": {},
     "output_type": "execute_result"
    }
   ],
   "source": [
    "unz_article.authors"
   ]
  },
  {
   "cell_type": "code",
   "execution_count": 11,
   "metadata": {},
   "outputs": [
    {
     "data": {
      "text/plain": [
       "['Karen Bartlett',\n",
       " 'Concrete Mike',\n",
       " 'Ivan Freely',\n",
       " 'Tommy Jensen',\n",
       " 'Sam Navarro']"
      ]
     },
     "execution_count": 11,
     "metadata": {},
     "output_type": "execute_result"
    }
   ],
   "source": [
    "sf_article.authors"
   ]
  },
  {
   "cell_type": "code",
   "execution_count": 12,
   "metadata": {},
   "outputs": [],
   "source": [
    "unz_article.publish_date"
   ]
  },
  {
   "cell_type": "code",
   "execution_count": 13,
   "metadata": {},
   "outputs": [
    {
     "data": {
      "text/plain": [
       "datetime.datetime(2019, 12, 3, 13, 26, 4, tzinfo=tzutc())"
      ]
     },
     "execution_count": 13,
     "metadata": {},
     "output_type": "execute_result"
    }
   ],
   "source": [
    "sf_article.publish_date"
   ]
  },
  {
   "cell_type": "code",
   "execution_count": 14,
   "metadata": {},
   "outputs": [
    {
     "data": {
      "text/plain": [
       "'A recent article by Philip Weiss on the Mondoweiss website lays out an argument that most liberal Jews, like Weiss, are hesitant to support, namely that Jewish power, and more to the point its money, as exercised through the so-called Israel Lobby in the United States and elsewhere, has been the principal enabling force behind the international pariah that the state of Israel has become.\\n\\nWeiss notes how “most observers accept the antisemitism redlines echoed lately by Bernie Sanders: you are not to speak of an outsize Jewish role in politics. So few write about the Israel lobby, though they know it to be a significant force…” In other words, Sanders, liberal to the core and ostensibly supportive of Palestinian rights, draws a line that forbids any real discussion of Jewish power in the United States even though everyone who has not been asleep is more than aware of just how powerful American Jews, and by extension Israel, are.\\n\\nWeiss details how the vast sums of money raised by both D'"
      ]
     },
     "execution_count": 14,
     "metadata": {},
     "output_type": "execute_result"
    }
   ],
   "source": [
    "unz_article.text[0:1000]"
   ]
  },
  {
   "cell_type": "code",
   "execution_count": 15,
   "metadata": {},
   "outputs": [
    {
     "data": {
      "text/plain": [
       "'Donate\\n\\nWritten by Philip M. Giraldi; Originally appeared at The Unz Review\\n\\nA recent article by Philip Weiss on the Mondoweiss website lays out an argument that most liberal Jews, like Weiss, are hesitant to support, namely that Jewish power, and more to the point its money, as exercised through the so-called Israel Lobby in the United States and elsewhere, has been the principal enabling force behind the international pariah that the state of Israel has become.\\n\\nWeiss notes how “most observers accept the antisemitism redlines echoed lately by Bernie Sanders: you are not to speak of an outsize Jewish role in politics. So few write about the Israel lobby, though they know it to be a significant force…” In other words, Sanders, liberal to the core and ostensibly supportive of Palestinian rights, draws a line that forbids any real discussion of Jewish power in the United States even though everyone who has not been asleep is more than aware of just how powerful American Jews, and by exte'"
      ]
     },
     "execution_count": 15,
     "metadata": {},
     "output_type": "execute_result"
    }
   ],
   "source": [
    "sf_article.text[0:1000]"
   ]
  },
  {
   "cell_type": "code",
   "execution_count": 133,
   "metadata": {},
   "outputs": [
    {
     "data": {
      "text/plain": [
       "'http://www.unz.com/pgiraldi/the-international-zionist-conspiracy/'"
      ]
     },
     "execution_count": 133,
     "metadata": {},
     "output_type": "execute_result"
    }
   ],
   "source": [
    "unz_article.canonical_link"
   ]
  },
  {
   "cell_type": "code",
   "execution_count": 134,
   "metadata": {},
   "outputs": [
    {
     "data": {
      "text/plain": [
       "'https://southfront.org/philip-m-giraldi-the-international-zionist-conspiracy/'"
      ]
     },
     "execution_count": 134,
     "metadata": {},
     "output_type": "execute_result"
    }
   ],
   "source": [
    "sf_article.canonical_link"
   ]
  },
  {
   "cell_type": "code",
   "execution_count": 135,
   "metadata": {},
   "outputs": [
    {
     "data": {
      "text/plain": [
       "'f41ffef6c9510fec4cc814e189b82f03.1575814617.2237463'"
      ]
     },
     "execution_count": 135,
     "metadata": {},
     "output_type": "execute_result"
    }
   ],
   "source": [
    "article.link_hash"
   ]
  },
  {
   "cell_type": "code",
   "execution_count": 136,
   "metadata": {},
   "outputs": [],
   "source": [
    "unz_article.nlp()\n",
    "sf_article.nlp()"
   ]
  },
  {
   "cell_type": "code",
   "execution_count": 137,
   "metadata": {},
   "outputs": [
    {
     "data": {
      "text/plain": [
       "['party',\n",
       " 'israel',\n",
       " 'states',\n",
       " 'zionist',\n",
       " 'jews',\n",
       " 'palestinian',\n",
       " 'money',\n",
       " 'jewish',\n",
       " 'power',\n",
       " 'support',\n",
       " 'united',\n",
       " 'conspiracy',\n",
       " 'international']"
      ]
     },
     "execution_count": 137,
     "metadata": {},
     "output_type": "execute_result"
    }
   ],
   "source": [
    "unz_article.keywords"
   ]
  },
  {
   "cell_type": "code",
   "execution_count": 138,
   "metadata": {},
   "outputs": [
    {
     "data": {
      "text/plain": [
       "['party',\n",
       " 'israel',\n",
       " 'states',\n",
       " 'zionist',\n",
       " 'philip',\n",
       " 'jews',\n",
       " 'm',\n",
       " 'palestinian',\n",
       " 'money',\n",
       " 'jewish',\n",
       " 'power',\n",
       " 'support',\n",
       " 'united',\n",
       " 'conspiracy',\n",
       " 'international',\n",
       " 'giraldi']"
      ]
     },
     "execution_count": 138,
     "metadata": {},
     "output_type": "execute_result"
    }
   ],
   "source": [
    "sf_article.keywords"
   ]
  },
  {
   "cell_type": "code",
   "execution_count": 139,
   "metadata": {},
   "outputs": [
    {
     "data": {
      "text/plain": [
       "'1, Israeli settlement/colonialism (or in Zionist terms, the effort to liberate European Jewry from persecution by establishing a Jewish homeland in historical Palestine).\\nWithout the blind support of the United States, Israel would have made a deal a long time ago.\\nWithout U.S. support, Israel would have been internationally isolated and would have grabbed the deal.\\nAnd the Israel conspiracy might well be regarded as international.\\nBritain is already in some senses Zionist controlled territory, even more so than the United States.'"
      ]
     },
     "execution_count": 139,
     "metadata": {},
     "output_type": "execute_result"
    }
   ],
   "source": [
    "unz_article.summary"
   ]
  },
  {
   "cell_type": "code",
   "execution_count": 141,
   "metadata": {},
   "outputs": [
    {
     "data": {
      "text/plain": [
       "'He describes how president after president has backed down versus Israel when confronted by Jewish power and observes that “This is not just a domestic political question, it’s a foreign policy problem.\\n1, Israeli settlement/colonialism (or in Zionist terms, the effort to liberate European Jewry from persecution by establishing a Jewish homeland in historical Palestine).\\nWithout the blind support of the United States, Israel would have made a deal a long time ago.\\nWithout U.S. support, Israel would have been internationally isolated and would have grabbed the deal.\\nBritain is already in some senses Zionist controlled territory, even more so than the United States.'"
      ]
     },
     "execution_count": 141,
     "metadata": {},
     "output_type": "execute_result"
    }
   ],
   "source": [
    "sf_article.summary"
   ]
  },
  {
   "cell_type": "code",
   "execution_count": 142,
   "metadata": {},
   "outputs": [
    {
     "data": {
      "text/plain": [
       "defaultdict(dict,\n",
       "            {'viewport': 'width=device-width, initial-scale=1',\n",
       "             'og': {'site_name': 'The Unz Review',\n",
       "              'locale': 'en_us',\n",
       "              'type': 'article',\n",
       "              'title': 'The International Zionist Conspiracy',\n",
       "              'url': 'http://www.unz.com/pgiraldi/the-international-zionist-conspiracy/',\n",
       "              'description': 'It poisons everything it touches',\n",
       "              'image': 'http://www.unz.com/wp-content/uploads/2019/12/Kraft-and-Abramovich.jpg'},\n",
       "             'fb': {'app_id': 158057877736603}})"
      ]
     },
     "execution_count": 142,
     "metadata": {},
     "output_type": "execute_result"
    }
   ],
   "source": [
    "unz_article.meta_data"
   ]
  },
  {
   "cell_type": "code",
   "execution_count": 143,
   "metadata": {},
   "outputs": [
    {
     "data": {
      "text/plain": [
       "defaultdict(dict,\n",
       "            {'viewport': 'width=device-width, initial-scale=1, shrink-to-fit=no',\n",
       "             'robots': 'max-snippet:-1, max-image-preview:large, max-video-preview:-1',\n",
       "             'og': {'locale': 'en_GB',\n",
       "              'type': 'article',\n",
       "              'title': 'Philip M. Giraldi: \"The International Zionist Conspiracy\"',\n",
       "              'description': 'Written by Philip M. Giraldi; Originally appeared at The Unz Review A\\xa0recent article\\xa0by Philip Weiss on the\\xa0Mondoweiss\\xa0website lays out an...',\n",
       "              'url': 'https://southfront.org/philip-m-giraldi-the-international-zionist-conspiracy/',\n",
       "              'image': {'identifier': 'https://southfront.org/wp-content/uploads/2019/12/1-16.jpg',\n",
       "               'secure_url': 'https://southfront.org/wp-content/uploads/2019/12/1-16.jpg',\n",
       "               'width': 640,\n",
       "               'height': 400}},\n",
       "             'article': {'publisher': 'https://www.facebook.com/SouthFrontEnTwo',\n",
       "              'section': \"Editor's choice\",\n",
       "              'published_time': '2019-12-03T13:26:04+00:00'},\n",
       "             'twitter': {'card': 'summary',\n",
       "              'description': 'Written by Philip M. Giraldi; Originally appeared at The Unz Review A\\xa0recent article\\xa0by Philip Weiss on the\\xa0Mondoweiss\\xa0website lays out an...',\n",
       "              'title': 'Philip M. Giraldi: \"The International Zionist Conspiracy\"',\n",
       "              'site': '@southfronteng',\n",
       "              'image': 'https://southfront.org/wp-content/uploads/2019/12/1-16.jpg',\n",
       "              'creator': '@southfronteng'},\n",
       "             'generator': 'WordPress 5.2.4',\n",
       "             'onesignal': 'wordpress-plugin'})"
      ]
     },
     "execution_count": 143,
     "metadata": {},
     "output_type": "execute_result"
    }
   ],
   "source": [
    "sf_article.meta_data"
   ]
  },
  {
   "cell_type": "code",
   "execution_count": 144,
   "metadata": {},
   "outputs": [
    {
     "data": {
      "text/plain": [
       "''"
      ]
     },
     "execution_count": 144,
     "metadata": {},
     "output_type": "execute_result"
    }
   ],
   "source": [
    "unz_article.meta_lang"
   ]
  },
  {
   "cell_type": "code",
   "execution_count": 145,
   "metadata": {},
   "outputs": [
    {
     "data": {
      "text/plain": [
       "'en'"
      ]
     },
     "execution_count": 145,
     "metadata": {},
     "output_type": "execute_result"
    }
   ],
   "source": [
    "sf_article.meta_lang"
   ]
  },
  {
   "cell_type": "code",
   "execution_count": 156,
   "metadata": {},
   "outputs": [],
   "source": [
    "sf_article.fetch_images()"
   ]
  },
  {
   "cell_type": "code",
   "execution_count": 158,
   "metadata": {},
   "outputs": [
    {
     "data": {
      "text/plain": [
       "{'https://informer.yandex.ru/informer/35327630/3_1_FFFFFFFF_EFEFEFFF_0_pageviews',\n",
       " 'https://mc.yandex.ru/watch/35327630',\n",
       " 'https://southfront.org/wp-content/themes/wt_tera/images/AM.png',\n",
       " 'https://southfront.org/wp-content/themes/wt_tera/images/DE.png',\n",
       " 'https://southfront.org/wp-content/themes/wt_tera/images/donate/100-min.png',\n",
       " 'https://southfront.org/wp-content/themes/wt_tera/images/donate/20-min.png',\n",
       " 'https://southfront.org/wp-content/themes/wt_tera/images/donate/200-min.png',\n",
       " 'https://southfront.org/wp-content/themes/wt_tera/images/donate/50-min.png',\n",
       " 'https://southfront.org/wp-content/themes/wt_tera/images/donate/500-min.png',\n",
       " 'https://southfront.org/wp-content/themes/wt_tera/images/donate/another-amount-min.png',\n",
       " 'https://southfront.org/wp-content/themes/wt_tera/images/logo.png',\n",
       " 'https://southfront.org/wp-content/uploads/2015/12/DONATE-EUR.png',\n",
       " 'https://southfront.org/wp-content/uploads/2016/01/DONATE-USD.png',\n",
       " 'https://southfront.org/wp-content/uploads/2016/07/old_style_2.jpg',\n",
       " 'https://southfront.org/wp-content/uploads/2017/07/MAPS-CONFLICTS-DATABASE-1.gif',\n",
       " 'https://southfront.org/wp-content/uploads/2019/12/1-16-480x300.jpg',\n",
       " 'https://southfront.org/wp-content/uploads/2019/12/1-16.jpg',\n",
       " 'https://southfront.org/wp-content/uploads/2019/12/2-5.jpg'}"
      ]
     },
     "execution_count": 158,
     "metadata": {},
     "output_type": "execute_result"
    }
   ],
   "source": [
    "sf_article.images"
   ]
  },
  {
   "cell_type": "code",
   "execution_count": 162,
   "metadata": {},
   "outputs": [
    {
     "name": "stdout",
     "output_type": "stream",
     "text": [
      "https://southfront.org/wp-content/uploads/2019/12/1-16.jpg\n"
     ]
    }
   ],
   "source": [
    "print(sf_article.top_image)"
   ]
  },
  {
   "cell_type": "code",
   "execution_count": 161,
   "metadata": {},
   "outputs": [
    {
     "data": {
      "text/plain": [
       "{'https://informer.yandex.ru/informer/35327630/3_1_FFFFFFFF_EFEFEFFF_0_pageviews',\n",
       " 'https://mc.yandex.ru/watch/35327630',\n",
       " 'https://southfront.org/wp-content/themes/wt_tera/images/AM.png',\n",
       " 'https://southfront.org/wp-content/themes/wt_tera/images/DE.png',\n",
       " 'https://southfront.org/wp-content/themes/wt_tera/images/donate/100-min.png',\n",
       " 'https://southfront.org/wp-content/themes/wt_tera/images/donate/20-min.png',\n",
       " 'https://southfront.org/wp-content/themes/wt_tera/images/donate/200-min.png',\n",
       " 'https://southfront.org/wp-content/themes/wt_tera/images/donate/50-min.png',\n",
       " 'https://southfront.org/wp-content/themes/wt_tera/images/donate/500-min.png',\n",
       " 'https://southfront.org/wp-content/themes/wt_tera/images/donate/another-amount-min.png',\n",
       " 'https://southfront.org/wp-content/themes/wt_tera/images/logo.png',\n",
       " 'https://southfront.org/wp-content/uploads/2015/12/DONATE-EUR.png',\n",
       " 'https://southfront.org/wp-content/uploads/2016/01/DONATE-USD.png',\n",
       " 'https://southfront.org/wp-content/uploads/2016/07/old_style_2.jpg',\n",
       " 'https://southfront.org/wp-content/uploads/2017/07/MAPS-CONFLICTS-DATABASE-1.gif',\n",
       " 'https://southfront.org/wp-content/uploads/2019/12/1-16-480x300.jpg',\n",
       " 'https://southfront.org/wp-content/uploads/2019/12/1-16.jpg',\n",
       " 'https://southfront.org/wp-content/uploads/2019/12/2-5.jpg'}"
      ]
     },
     "execution_count": 161,
     "metadata": {},
     "output_type": "execute_result"
    }
   ],
   "source": [
    "sf_article.imgs"
   ]
  },
  {
   "cell_type": "code",
   "execution_count": 149,
   "metadata": {},
   "outputs": [],
   "source": [
    "unz_html = unz_article.article_html\n",
    "sf_html = sf_article.article_html"
   ]
  },
  {
   "cell_type": "code",
   "execution_count": 150,
   "metadata": {},
   "outputs": [
    {
     "data": {
      "text/plain": [
       "'<div><p class=\"no-break\">         Donate</p><p>Written by <strong>Philip M. Giraldi</strong>; Originally appeared at <a href=\"http://www.unz.com/pgiraldi/the-international-zionist-conspiracy/\" target=\"_blank\" rel=\"noopener noreferrer\"><strong>The Unz Review</strong></a></p><p id=\"p_1_1\" class=\"container\">A&#160;<a title=\"https://mondoweiss.net/2019/11/the-root-cause-of-the-conflict-is-the-israel-lobby/\" href=\"https://mondoweiss.net/2019/11/the-root-cause-of-the-conflict-is-the-israel-lobby/\">recent article</a>&#160;by Philip Weiss on the&#160;Mondoweiss&#160;website lays out an argument that most liberal Jews, like Weiss, are hesitant to support, namely that Jewish power, and more to the point its money, as exercised through the so-called Israel Lobby in the United States and elsewhere, has been the principal enabling force behind the international pariah that the state of Israel has become.</p><p><a href=\"https://southfront.org/wp-content/uploads/2019/12/1-16.jpg\" target=\"_blank\" rel=\"noopener noreferrer\"><img title=\\'Philip M. Giraldi: \"The International Zionist Conspiracy\"\\' class=\"alignnone wp-image-101732 size-medium\" src=\"https://southfront.org/wp-content/uploads/2019/12/1-16-480x300.jpg\" alt=\\'Philip M. Giraldi: \"The International Zionist Conspiracy\"\\' width=\"480\" height=\"300\"></a></p><p id=\"p_1_2\" class=\"container\">Weiss notes how &#8220;most observers accept the antisemitism redlines echoed lately by Bernie Sanders: you are not to speak of an outsize Jewish role in politics. So few write about the Israel lobby, though they know it to be a significant force&#8230;&#8221; In other words, Sanders, liberal to the core and ostensibly supportive of Palestinian rights, draws a line that forbids any real discussion of Jewish power in the United States even though everyone who has not been asleep is more than aware of just how powerful American Jews, and by extension Israel, are.</p><p id=\"p_1_3\" class=\"container\">Weiss details how the vast sums of money raised by both Democratic and Republican Jews has distorted American politics since the time of President Harry S. Truman. He describes how president after president has backed down versus Israel when confronted by Jewish power and observes that &#8220;This is not just a domestic political question, it&#8217;s a foreign policy problem. The Israel lobby is the root cause of the Israel Palestine conflict. Consider the two&#8230;main causes of the conflict. 1, Israeli settlement/colonialism (or in Zionist terms, the effort to liberate European Jewry from persecution by establishing a Jewish homeland in historical Palestine). 2, Palestinian resistance to 1. Neither of these historical forces would still be a source of serious conflict 71 years after Israel&#8217;s establishment were it not for the lobby. Without the blind support of the United States, Israel would have made a deal a long time ago. The country would have followed through on the historic Palestinian concession of 1988 followed by the Arab Peace Initiative of 2001, and accepted partition of the land on highly favorable terms (Israel gets 78 percent). Without U.S. support, Israel would have been internationally isolated and would have grabbed the deal. The Israelis have been able to continue to devour the land only because the United States supports the occupation in international fora, and gives Israeli a diplomatic umbrella against any storm, due to blind bipartisan political backing here.&#8221;</p><p id=\"p_1_4\" class=\"container\">Jewish power in America and elsewhere must never be discussed unless it is a discussion involving only Jews, who openly recognize and appreciate the phenomenon. Weiss notes how &#8220;Israel lobbyists themselves extol Jewish political power in the U.S. as Israel&#8217;s lifeline for money and arms and diplomatic protection&#8221; and quotes Michael Koplow of the Israel Policy Forum, who boasts how &#8220;I have no qualms about pointing out that the American Jewish community is almost certainly the most influential minority community in the history of the U.S., and possibly in the history of the world. American Jews have worked hard to make it so, and have built a network of outward-facing institutions that protect this privileged position.&#8221;</p><p id=\"p_1_5\" class=\"container\">Beyond Weiss&#8217;s observations, one might note how Zionist Jews are essentially able to shut down any discussion of Palestine or of Palestinian rights. Given the extreme overrepresentation of Jews in both the news generation process and in various choke points in the political process, an honest discussion of Israel-Palestine and the actual U.S. interests in the region is extremely difficult to find anywhere in the mainstream media.</p><p id=\"p_1_6\" class=\"container\">In both the 2012 and 2016 Democratic Party conventions, for example, there was considerable pressure from the members of the party base to include language reflective of the need to recognize Palestinian suffering and condemn the Israeli &#8220;occupation.&#8221; Long-time liberal activist James Zogby&#160;<a title=\"https://foreignpolicy.com/2016/06/29/inside-the-democratic-partys-showdown-over-israel-palestine/\" href=\"https://foreignpolicy.com/2016/06/29/inside-the-democratic-partys-showdown-over-israel-palestine/\">pushed for an amendment</a>&#160;to the party platform in 2016 calling for &#8220;an end to occupation and illegal settlements&#8221; in Israel-Palestine. In both conventions, Hillary Clinton interests pushed back and rejected any changes, arguing that they would constitute &#8220;terrible mistake[s],&#8221; too &#8220;one-sided&#8221; toward the Palestinians. In both instances there was loud and sustained booing from the floor when the reflexively pro-Israel platform was announced, but the speaker rejected calls for any floor vote.</p><p id=\"p_1_7\" class=\"container\">To cite another example, two weeks ago, California&#8217;s Democratic party concluded its fall convention by finalizing what would be included in the&#160;<a title=\"http://www.gazettes.com/news/politics/democrats-make-platform-decisions-on-final-day-in-long-beach/article_b0264c36-09b1-11ea-bf76-13b9e830caca.html?fbclid=IwAR3RQgEiItMGrfGL-uawTO5UKedhq_Q921yl0yzY_-_sdAynL5pmDaOn9CQ\" href=\"http://www.gazettes.com/news/politics/democrats-make-platform-decisions-on-final-day-in-long-beach/article_b0264c36-09b1-11ea-bf76-13b9e830caca.html?fbclid=IwAR3RQgEiItMGrfGL-uawTO5UKedhq_Q921yl0yzY_-_sdAynL5pmDaOn9CQ\">state party platform</a>. An amendment promoted by Palestinian supporters was defeated in a floor vote. It was offered by delegate David Mandel, himself a Jew, and called on the party to support &#8220;a solution of the Israeli-Palestinian conflict negotiated by the parties that guarantees equality, security and democracy for all, no matter what the final settlement regarding states and borders&#8221; and called on party members to &#8220;oppose any unilateral annexation of territory, and support the right of all those who were forced from their homes to return to their homelands and receive compensation for their losses.&#8221; Mandel&#8217;s proposal attracted the ire of Zionist apologists including State Senator Scott Wiener and Assemblywoman Laura Friedman, who asserted that &#8220;This amendment cuts to the core of Israel&#8217;s ability to be its own state.&#8221;</p><p id=\"p_1_8\" class=\"container\">One might observe that the Mandel amendment was pretty mild stuff relatively speaking, even excluding the word &#8220;occupation,&#8221; and that the Wiener-Friedman riposte is nonsense, but the result was more of the same. Reliably liberal California Democrats delivered the usual pander to Israeli-Jewish interests. They surrendered to the persistent Jews-in-politics demand never to give even one inch when it comes to permitting Israel absolute license to behave badly while at the same time extracting from the United States billions of dollars in subsidies every year.</p><p id=\"p_1_9\" class=\"container\">And the Israel conspiracy might well be regarded as international. In France, which has the largest diaspora Jewish population after the United States, hate legislation which de facto protects only Jews has been employed to shut down any and all criticism. It has become common all across Europe to regard any criticism of Israel as anti-Semitism and therefore as a hate crime, with criminal penalties attached. French comedian Dieudonn&#233;, who admittedly is rather pointed in his satire, has been convicted eight times.</p><p id=\"p_1_10\" class=\"container\">And then there is the sad case of Jeremy Corbyn, British Labour Party leader who will be contesting a national election on December 12th. Corbyn has been accused of being an anti-Semite based on his fairly mild defense of Palestinians, which one might have thought to be a good, sound socialist human rights position. And so it would be if Israel were not involved. With the election looming, British Jews have increased pressure on Corbyn and by default are endorsing his conservative opponent Boris Johnson, who has spoken repeatedly about his love of Israel. Britain&#8217;s Chief Rabbi Ephraim Mirvis recently produced&#160;<a title=\"https://www.thetimes.co.uk/edition/news/ephraim-mirvis-what-will-become-of-jews-in-britain-if-labour-forms-the-next-government-ghpsdbljk\" href=\"https://www.thetimes.co.uk/edition/news/ephraim-mirvis-what-will-become-of-jews-in-britain-if-labour-forms-the-next-government-ghpsdbljk\">an article</a>&#160;for the influential&#160;Times&#160;of London declaring Corbyn &#8220;unfit for office&#8221; because &#8220;the way in which the [Labour] leadership has dealt with anti-Jewish racism is incompatible with the British values of which we are so proud &#8212; of dignity and respect for all people.&#8221;</p><p id=\"p_1_11\" class=\"container\">The good rabbi is not, of course including Palestinians as worthy of &#8220;dignity and respect.&#8221; He is really only concerned about his own tribe and the &#8220;racism&#8221; he refers to is largely concentrated among those Britons who are opposed to Israeli government policies. Britain is already in some senses Zionist controlled territory, even more so than the United States. Jews are prominent at many choke points in the media and entertainment industries while 80% of Conservative Party politicians are members of &#8220;Conservative Friends of Israel.&#8221; The Labour Party is also active engaged with their own version of the same, Labour Friends of Israel, which includes 80 out of the party&#8217;s 262 members of parliament.</p><p id=\"p_1_12\" class=\"container\">Finally, International Zionism is very well represented in recent announcements coming from the world of professional sports, where billionaire Jewish team owners take their orders from Israel to combat critics and the scourge of anti-Semitism.</p><p id=\"p_1_13\" class=\"container\">In January 2019 New England Patriots owner Robert Kraft&#160;<a title=\"https://mondoweiss.net/2019/11/robert-kraft-launches-million-dollar-competition-to-combat-the-bds-movement/\" href=\"https://mondoweiss.net/2019/11/robert-kraft-launches-million-dollar-competition-to-combat-the-bds-movement/\">received the Genesis prize</a>, a million-dollar award given annually to Jews &#8220;who have attained excellence and international renown in their chosen professional fields.&#8221; Kraft&#8217;s friend Israeli Prime Minister Benjamin Netanyahu personally presented the plaque and Kraft told the audience that he would use the money to combat anti-Semitism and the BDS (the Boycott, Divestment and Sanctions) movement. He also pledged to add $20 million of his own money to set up a foundation to do more of the same. Kraft enthused &#8220;Israel is so special to me and my family&#8230; I have sponsored dozens of missions and countless other trips for people to experience Israel for the first time. Spiritually, there is no place like it on earth.&#8221;</p><p id=\"p_1_14\" class=\"container\">Perhaps Kraft should move to Israel so he won&#8217;t be troubled by allegations of dual loyalty made by people like me. He has&#160;<a title=\"https://jewishnews.timesofisrael.com/chelsea-ownera-pledges-3-9m-for-new-robert-kraft-antisemitism-foundation/\" href=\"https://jewishnews.timesofisrael.com/chelsea-ownera-pledges-3-9m-for-new-robert-kraft-antisemitism-foundation/\">now been joined</a>&#160;by Britain&#8217;s Chelsea football club owner Roman Abramovich, a billionaire investor who has pledged &#163;3.9m ($5 million) of his own money to support the foundation &#8220;to tackle anti-Semitism.&#8221; Abramovich was born in the Soviet Union but is an Israeli citizen and lives most of the year in that country. He has been&#160;<a title=\"https://en.wikipedia.org/wiki/Roman_Abramovich\" href=\"https://en.wikipedia.org/wiki/Roman_Abramovich\">linked to</a>&#160;a number of financial scandals.</p><p id=\"p_1_15\" class=\"container\">Kraft, of course,&#160;<a title=\"https://en.wikipedia.org/wiki/Robert_Kraft\" href=\"https://en.wikipedia.org/wiki/Robert_Kraft\">has his own baggage</a>. On February 22nd, 2019, he was charged in Jupiter Florida for &#8220;soliciting another to commit prostitution.&#8221; Kraft was reportedly video recorded by a hidden camera while engaged in sexual activity within the confines of a seedy enterprise called the Orchids of Asia Day Spa that sold the services of Asian sex trafficked women. The case is still being resolved but Kraft denies the charges and he has plenty of high- priced lawyers to make sure that he walks.</p><p id=\"p_1_16\" class=\"container\">Beyond all that, if one doubts the power of the Jewish/Israel lobby internationally, note one of the first actions undertaken by the new coup government in Bolivia. It has moved to&#160;<a title=\"https://www.ynetnews.com/article/HJzOUY6nS\" href=\"https://www.ynetnews.com/article/HJzOUY6nS\">reestablish diplomatic relations</a>&#160;with Israel as a top priority. Brazil also sought&#160;<a title=\"http://www.itamaraty.gov.br/en/press-releases/20236-joint-declaration-on-the-occasion-of-the-oficial-visit-of-president-jair-bolsonaro-to-israel-march-31-2019\" href=\"http://www.itamaraty.gov.br/en/press-releases/20236-joint-declaration-on-the-occasion-of-the-oficial-visit-of-president-jair-bolsonaro-to-israel-march-31-2019\">a closer relationship with Israel</a>&#160;after conservative Jair Bolsonaro was elected president and pledged to visit the Jewish state, a promise which he carried out in March. Everyone in the world understands that the way to gain favor with Washington is to go through Israel.</p><p id=\"p_1_17\" class=\"container\">Philip M. Giraldi, Ph.D., is Executive Director of the Council for the National Interest, a 501(c)3 tax deductible educational foundation (Federal ID Number #52-1739023) that seeks a more interests-based U.S. foreign policy in the Middle East. Website is&#160;<strong>councilforthenationalinterest.org,</strong>&#160;address is P.O. Box 2157, Purcellville VA 20134 and its email is&#160;<a title=\"mailto:inform@cnionline.org\" href=\"mailto:inform@cnionline.org\"><strong>inform@cnionline.org</strong></a>.</p><p>         Donate</p></div>'"
      ]
     },
     "execution_count": 150,
     "metadata": {},
     "output_type": "execute_result"
    }
   ],
   "source": [
    "sf_html"
   ]
  },
  {
   "cell_type": "code",
   "execution_count": 153,
   "metadata": {},
   "outputs": [
    {
     "data": {
      "text/plain": [
       "['https://mondoweiss.net/2019/11/the-root-cause-of-the-conflict-is-the-israel-lobby/',\n",
       " 'https://foreignpolicy.com/2016/06/29/inside-the-democratic-partys-showdown-over-israel-palestine/',\n",
       " 'http://www.gazettes.com/news/politics/democrats-make-platform-decisions-on-final-day-in-long-beach/article_b0264c36-09b1-11ea-bf76-13b9e830caca.html?fbclid=IwAR3RQgEiItMGrfGL-uawTO5UKedhq_Q921yl0yzY_-_sdAynL5pmDaOn9CQ',\n",
       " 'https://www.thetimes.co.uk/edition/news/ephraim-mirvis-what-will-become-of-jews-in-britain-if-labour-forms-the-next-government-ghpsdbljk',\n",
       " 'https://mondoweiss.net/2019/11/robert-kraft-launches-million-dollar-competition-to-combat-the-bds-movement/',\n",
       " 'https://jewishnews.timesofisrael.com/chelsea-ownera-pledges-3-9m-for-new-robert-kraft-antisemitism-foundation/',\n",
       " 'https://en.wikipedia.org/wiki/Roman_Abramovich',\n",
       " 'https://en.wikipedia.org/wiki/Robert_Kraft',\n",
       " 'https://www.ynetnews.com/article/HJzOUY6nS',\n",
       " 'http://www.itamaraty.gov.br/en/press-releases/20236-joint-declaration-on-the-occasion-of-the-oficial-visit-of-president-jair-bolsonaro-to-israel-march-31-2019',\n",
       " '/cdn-cgi/l/email-protection#3e575058514c537e5d505751505257505b10514c59']"
      ]
     },
     "execution_count": 153,
     "metadata": {},
     "output_type": "execute_result"
    }
   ],
   "source": [
    "re.findall(r\"(?:<a .*?href=\\\")(.*?)(?:\\\")\", unz_html)"
   ]
  },
  {
   "cell_type": "code",
   "execution_count": 154,
   "metadata": {},
   "outputs": [
    {
     "data": {
      "text/plain": [
       "['http://www.unz.com/pgiraldi/the-international-zionist-conspiracy/',\n",
       " 'https://mondoweiss.net/2019/11/the-root-cause-of-the-conflict-is-the-israel-lobby/',\n",
       " 'https://southfront.org/wp-content/uploads/2019/12/1-16.jpg',\n",
       " 'https://foreignpolicy.com/2016/06/29/inside-the-democratic-partys-showdown-over-israel-palestine/',\n",
       " 'http://www.gazettes.com/news/politics/democrats-make-platform-decisions-on-final-day-in-long-beach/article_b0264c36-09b1-11ea-bf76-13b9e830caca.html?fbclid=IwAR3RQgEiItMGrfGL-uawTO5UKedhq_Q921yl0yzY_-_sdAynL5pmDaOn9CQ',\n",
       " 'https://www.thetimes.co.uk/edition/news/ephraim-mirvis-what-will-become-of-jews-in-britain-if-labour-forms-the-next-government-ghpsdbljk',\n",
       " 'https://mondoweiss.net/2019/11/robert-kraft-launches-million-dollar-competition-to-combat-the-bds-movement/',\n",
       " 'https://jewishnews.timesofisrael.com/chelsea-ownera-pledges-3-9m-for-new-robert-kraft-antisemitism-foundation/',\n",
       " 'https://en.wikipedia.org/wiki/Roman_Abramovich',\n",
       " 'https://en.wikipedia.org/wiki/Robert_Kraft',\n",
       " 'https://www.ynetnews.com/article/HJzOUY6nS',\n",
       " 'http://www.itamaraty.gov.br/en/press-releases/20236-joint-declaration-on-the-occasion-of-the-oficial-visit-of-president-jair-bolsonaro-to-israel-march-31-2019',\n",
       " 'mailto:inform@cnionline.org']"
      ]
     },
     "execution_count": 154,
     "metadata": {},
     "output_type": "execute_result"
    }
   ],
   "source": [
    "re.findall(r\"(?:<a .*?href=\\\")(.*?)(?:\\\")\", sf_html)"
   ]
  }
 ],
 "metadata": {
  "kernelspec": {
   "display_name": "Python 3",
   "language": "python",
   "name": "python3"
  },
  "language_info": {
   "codemirror_mode": {
    "name": "ipython",
    "version": 3
   },
   "file_extension": ".py",
   "mimetype": "text/x-python",
   "name": "python",
   "nbconvert_exporter": "python",
   "pygments_lexer": "ipython3",
   "version": "3.7.4"
  }
 },
 "nbformat": 4,
 "nbformat_minor": 4
}
