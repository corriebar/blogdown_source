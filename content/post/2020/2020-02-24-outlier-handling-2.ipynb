{
 "cells": [
  {
   "cell_type": "markdown",
   "metadata": {},
   "source": [
    "# House-Cleaning: Getting rid of outliers (Part 2)\n",
    "\n",
    "In the [previous post](/2020/outlier-handling-one), we tried to clean rental offerings from some outliers. We first just had a look at our data and tried to clean by simply using threshold derived from our own knowledge about flats with minor success. We got slightly better results by using the IQR rule and learned two things: First, the IQR rule works better if our data is normally distributed and, if it's not, transforming it works wonders. The second learning was that picking a threshold for each variable (either by hand or through the IQR rule) doesn't work well if our variables are strongly correlated. The IQR rule always forms a rectangular threshold-window over our data where we would be better served with an elliptical window for correlated data. And what math object has an elliptical shape? Right, a multivariate Gaussian."
   ]
  },
  {
   "cell_type": "code",
   "execution_count": null,
   "metadata": {
    "lines_to_next_cell": 0
   },
   "outputs": [],
   "source": [
    "import pandas as pd\n",
    "import numpy as np\n",
    "import matplotlib.pyplot as plt\n",
    "import matplotlib as mpl\n",
    "import seaborn as sns\n",
    "import warnings\n",
    "warnings.filterwarnings('ignore')\n",
    "pd.options.display.max_colwidth = 200\n",
    "\n",
    "blue = \"#008fd5\"\n",
    "red = \"#fc4f30\"\n",
    "\n",
    "d = pd.read_csv(\"/home/corrie/Documents/Projects/immoscout/data/immo_data_feb_2020.csv\")\n",
    "d[\"totalRent\"] = np.where((d[\"totalRent\"].isnull()) | (d[\"totalRent\"] == 0),\n",
    "                          np.where( d[\"serviceCharge\"].notnull(), d[\"baseRent\"] + d[\"serviceCharge\"], d[\"baseRent\"]),\n",
    "                          d[\"totalRent\"])\n",
    "def iqr(data):\n",
    "    \"\"\"compute the interquartile range (excluding nan)\"\"\"\n",
    "    return np.nanquantile(data, 0.75) - np.nanquantile(data, 0.25)\n",
    "\n",
    "def iqr_rule(data, factor=1.5):\n",
    "    \"\"\"returns an outlier filter mask using the iqr rule\"\"\"\n",
    "    iqr_ = iqr(data)\n",
    "    upper_fence = np.nanquantile(data, 0.75) + factor*iqr_\n",
    "    lower_fence = np.nanquantile(data, 0.25) - factor*iqr_\n",
    "    return (data <= upper_fence) & (data >= lower_fence)\n",
    "\n",
    "d[\"livingSpace_m\"] =  np.where(d[\"livingSpace\"] <= 0, 0.5, d[\"livingSpace\"])\n",
    "d[\"totalRent_m\"] = np.where(d[\"totalRent\"] <= 0, 0.5, d[\"totalRent\"])\n",
    "\n",
    "d[\"logRent\"] = np.log(d[\"totalRent_m\"])\n",
    "d[\"logSpace\"] = np.log(d[\"livingSpace_m\"])"
   ]
  },
  {
   "cell_type": "code",
   "execution_count": null,
   "metadata": {},
   "outputs": [],
   "source": [
    "plt.style.use('corrie')"
   ]
  },
  {
   "cell_type": "markdown",
   "metadata": {},
   "source": [
    "## Gaussian Mixtures for Outlier Detection\n",
    "So how can we use [multivariate normal distributions](https://en.wikipedia.org/wiki/Multivariate_normal_distribution) to detect outliers in our data? The idea goes as follows:\n",
    "We first fit a multivariate normal distribution on our data, trying to estimate which normal distribution best describes it. Important note to make here: this method again assumes that our data is (multivariate) normally distributed.\n",
    "We then compute the likelihood for each data point according to this distribution. All data points with a very low likelihood, much lower than the other data points, are then classified as outliers. <br>\n",
    "The idea is probably easier to understand with some pictures:\n"
   ]
  },
  {
   "cell_type": "code",
   "execution_count": null,
   "metadata": {
    "lines_to_next_cell": 2
   },
   "outputs": [],
   "source": [
    "# thanks joseph https://joseph-long.com/writing/colorbars/\n",
    "def colorbar(mappable, label):\n",
    "    from mpl_toolkits.axes_grid1 import make_axes_locatable\n",
    "    last_axes = plt.gca()\n",
    "    ax = mappable.axes\n",
    "    fig = ax.figure\n",
    "    divider = make_axes_locatable(ax)\n",
    "    cax = divider.append_axes(\"right\", size=\"5%\", pad=0.2)\n",
    "    cbar = fig.colorbar(mappable, cax=cax, label=label)\n",
    "    plt.sca(last_axes)"
   ]
  },
  {
   "cell_type": "code",
   "execution_count": null,
   "metadata": {
    "lines_to_next_cell": 2
   },
   "outputs": [],
   "source": [
    "from sklego.mixture import BayesianGMMOutlierDetector\n",
    "\n",
    "np.random.seed(20)\n",
    "exam = np.random.multivariate_normal([-10, 2], [[1.8, 1.7], [1.7, 2.3]], (1000,))\n",
    "outlier = np.array([[-7, -1], [-8, 7.5]])\n",
    "exam = np.vstack([exam, outlier])\n",
    "mod = BayesianGMMOutlierDetector(n_components=1, threshold=3.5, method=\"stddev\").fit(exam)\n",
    "\n",
    "df_ex= pd.DataFrame({\"x1\": exam[:, 0], \"x2\": exam[:, 1],\n",
    "                   \"loglik\": -mod.score_samples(exam), \n",
    "                   \"prediction\": mod.predict(exam).astype(str)})"
   ]
  },
  {
   "cell_type": "code",
   "execution_count": null,
   "metadata": {},
   "outputs": [],
   "source": [
    "fig, ax = plt.subplots(dpi=80)\n",
    "norm = mpl.colors.Normalize(vmin=df_ex.loglik.min(),vmax=df_ex.loglik.max())\n",
    "scatter = ax.scatter(df_ex.x1, df_ex.x2, \n",
    "                          c=df_ex.loglik, cmap=\"viridis\", norm=norm,\n",
    "                          s=6, label=\"log-likelihood\")\n",
    "colorbar(scatter, label=\"log-likelihood\")\n",
    "ax.scatter(outlier[:,0], outlier[:,1], \n",
    "                c=df_ex.loglik[1000:] ,cmap=\"viridis\", norm=norm,\n",
    "                s=35)\n",
    "ax.set_title(\"Multivariate Normal Distribution\")\n",
    "plt.show()"
   ]
  },
  {
   "cell_type": "markdown",
   "metadata": {},
   "source": [
    "We sampled points from a multivariate normal with a high correlation between the $x$ and $y$ variable, just as in our rental data. \n",
    "The points are colored by their log-likelihood, where darker means a lower log-likelihood. I added two outliers by hand, plotted slightly larger, one in the lower right and one in the upper middle-right. As you can see, they have a much lower log-likelihood compared to the other points. We can use this and classify all points with a very low likelihood as outliers. We can for example say that all points that are more than 3.5 standard deviations away from the mean log-likelihood of all points are outliers. \n",
    "\n",
    "Let's see how this would compare to the IQR rule:\n"
   ]
  },
  {
   "cell_type": "code",
   "execution_count": null,
   "metadata": {},
   "outputs": [],
   "source": [
    "factor = 1.5\n",
    "x1_max = np.nanquantile(exam[:,0], 0.75) + factor*iqr(exam[:,0])\n",
    "x1_min = np.nanquantile(exam[:,0], 0.25) - factor*iqr(exam[:,0])\n",
    "\n",
    "x2_max = np.nanquantile(exam[:,1], 0.75) + factor*iqr(exam[:,1])\n",
    "x2_min = np.nanquantile(exam[:,1], 0.25) - factor*iqr(exam[:,1])\n",
    "\n",
    "fig, ax = plt.subplots(dpi=80)\n",
    "ax.scatter(df_ex.x1[df_ex.prediction == \"-1\"], df_ex.x2[df_ex.prediction == \"-1\"], c=red, label=\"low likelihood\", s=35)\n",
    "ax.scatter(df_ex.x1[df_ex.prediction == \"1\"], df_ex.x2[df_ex.prediction == \"1\"], c=blue, s=6)\n",
    "ax.axvline(x=x1_max, c=\"grey\", label=\"IQR rule\", alpha=0.3, linewidth=5)\n",
    "ax.axvline(x=x1_min, c=\"grey\", alpha=0.3, linewidth=5)\n",
    "ax.axhline(y=x2_max, c=\"grey\", alpha=0.3, linewidth=5)\n",
    "ax.axhline(y=x2_min, c=\"grey\", alpha=0.3, linewidth=5)\n",
    "ax.set_title(\"IQR rule vs Multivariate Outlier Detector\")\n",
    "ax.legend(markerscale=1.5, bbox_to_anchor=(0.81, .45))\n",
    "plt.show()"
   ]
  },
  {
   "cell_type": "markdown",
   "metadata": {},
   "source": [
    "These are the same points as above where now all points with a low log-likelihood, according to the rule specified above, are colored in red. The grey lines give the rectangular threshold as obtained from the IQR rule (using a factor of 1.5). There are quite a few points at the lower left that would be classified as outlier by the IQR rule but whose likelihood is mostly still above the log-likelihood threshold we picked. In the upper right corner, the two methods mostly agree on what classifies as an outlier but the IQR rule misses the one manually added outlier in the lower right corner. Obviously, I added this particular outlier because it highlights how a multivariate outlier detector can find outliers that arise from a correlation between two variables. Neither the $x$ nor the $y$ value of this  point is very unusual, only the combination makes it an outlier. \n",
    "\n",
    "Fortunately, there's a package that implements this method: [scikit-lego](https://github.com/koaning/scikit-lego). The package follows the scikit-learn API and adds some additional classifiers (such as the Gaussian mixture classifier and outlier detector) but also useful transformers and a pipeline debugger.\n",
    "I'm going to use the function `GMMOutlierDetector` which implements the whole procedure described above: it fits a multivariate Gaussian on our data, computes the likelihood for each point and points with a low likelihood are flagged as outlier. Here, GMM stands for Gaussian Mixture Model.\n",
    "Vincent, one of the developer of scikit-lego, explains the whole method in a few more sentences in his [talk](https://www.youtube.com/watch?v=aICqoAG5BXQ) at the PyData Berlin 2019.\n",
    "\n",
    "Let's apply this to our data. Since the method assumes normality and we saw in the previous post that both rent and living space are closer to a normal when log-transformed, I use the variables logRent and logSpace:\n"
   ]
  },
  {
   "cell_type": "code",
   "execution_count": null,
   "metadata": {
    "echo": true
   },
   "outputs": [],
   "source": [
    "from sklearn.pipeline import make_pipeline\n",
    "from sklearn.preprocessing import StandardScaler\n",
    "from sklego.mixture import GMMOutlierDetector\n",
    "\n",
    "num_cols = [\"logRent\", \"logSpace\"]\n",
    "\n",
    "pipe = make_pipeline(StandardScaler(),\n",
    "                     GMMOutlierDetector(threshold=1.5, \n",
    "                                        method=\"stddev\") )\n",
    "\n",
    "pipe = pipe.fit(d[num_cols])\n",
    "outlier = pipe.predict(d[num_cols])\n",
    "\n",
    "d[\"outlier\"] = np.where(outlier == -1, \"outlier\", \"no_outlier\")\n",
    "\n",
    "d.outlier.value_counts()"
   ]
  },
  {
   "cell_type": "markdown",
   "metadata": {},
   "source": [
    "The IQR rule classified around 1500 points as outliers so the Gaussian mixture outlier dectetor classified slightly more points as outlier. In percentage, this is still less than 1% though.\n",
    "Let's visualize which points were classified as outliers: \n"
   ]
  },
  {
   "cell_type": "code",
   "execution_count": null,
   "metadata": {
    "echo": true,
    "lines_to_next_cell": 0
   },
   "outputs": [],
   "source": [
    "fig, ax = plt.subplots(dpi=120)\n",
    "max_space = d[d.outlier == \"no_outlier\"].livingSpace.max()\n",
    "max_rent = d[d.outlier == \"no_outlier\"].totalRent.max()\n",
    "sc = ax.scatter(x=d[d.outlier == \"no_outlier\"].livingSpace_m, \n",
    "              y=d[d.outlier == \"no_outlier\"].totalRent_m, \n",
    "              label=\"Not Outlier\", s=6, c=blue, alpha=0.6,)\n",
    "sc = ax.scatter(x=d[d.outlier == \"outlier\"].livingSpace_m, \n",
    "              y=d[d.outlier == \"outlier\"].totalRent_m,\n",
    "              label=\"Outlier\", s=6, c=red, alpha=0.6,)"
   ]
  },
  {
   "cell_type": "code",
   "execution_count": null,
   "metadata": {},
   "outputs": [],
   "source": [
    "left, right = ax.set_xlim(-40, max_space + 200)\n",
    "bottom, top = ax.set_ylim(-500, max_rent + 800)\n",
    "ax.set_title(\"Using GMM for Outlier Detection\")\n",
    "leg = ax.legend(markerscale=3)\n",
    "for lh in leg.legendHandles:\n",
    "    lh.set_alpha(1)\n",
    "ax.set_xlabel(\"Living Space [sqm]\")\n",
    "ax.set_ylabel(\"Total Rent [€]\")\n",
    "plt.show()"
   ]
  },
  {
   "cell_type": "markdown",
   "metadata": {},
   "source": [
    "As the IQR rule, the method reliably detects all flats way too large or too expensive as outliers. The difference is indeed in the threshold window. Especially in the upper right we can see that the cut-off window is now elliptic instead of rectangular. \n",
    "\n",
    "We can see that points with a living space above 200sqm with rents below 1000€ are classified as outliers. That seems reasonable. Same for flats with a living space less than 80sqm with a rent above 2000€ or 3000€. Also seems reasonable.\n",
    "\n",
    "However, in the lower left we see again a rather hard threshold going through our blob of data points. That doesn't look much better to what we had before. <br>\n",
    "Indeed, if we look at some outliers from the lower left, we find some (depressing) realistic examples, such as this tiny flat in one of the most popular areas of Munich, newly renovated with high quality furniture for a total rent of 900€. Depressingly expensive but not unrealistic.\n"
   ]
  },
  {
   "cell_type": "code",
   "execution_count": null,
   "metadata": {
    "echo": true
   },
   "outputs": [],
   "source": [
    "ex1 = d[[\"totalRent\", \"livingSpace\", \n",
    "        \"description\", \"regio2\"]][d.outlier == \"outlier\"].iloc[0]\n",
    "print(ex1[[\"totalRent\", \"livingSpace\", \"regio2\"]]); ex1.description[0:545]"
   ]
  },
  {
   "cell_type": "markdown",
   "metadata": {},
   "source": [
    "## Gaussian Mixtures enhanced\n",
    "\n",
    "Personally, I prefer to throw away as little as possible. So I would like to keep points such as the one above in my data set.  <br>\n",
    "Also, imagine we would want to analyse afterwards how rent prices developed in Munich. Throwing out these examples would make Munich look cheaper than it actually is and might heavily bias our results.  \n",
    "\n",
    "One option is to play around with the threshold until you get a result you like. I often found this to be difficult and the results not necessarily very satisfying.  \n",
    "Another problem I encountered is that some extreme outliers (e.g. a rent of 120,000€) influenced the fitting algorithm so that the resulting multivariate normal distribution was very wide. This then means that quite a few outliers are missed when increasing the threshold.\n",
    "\n",
    "So I came up with the following method:\n",
    "What if instead of fitting on the whole data set, we only fit the outlier detector on a small subset. After all, outliers are by definition rare. When we fit on a small sample there is a high probability that it doesn't contain outliers which then makes it easier to detect outliers.   However, you might easily be unlucky with the random sample you got, either finding way too many or too little outliers. Thus, instead of just sampling and fitting once, I repeatedly sample and fit. Each time fitting on a small sample, predicting on the whole data, and finally compute the relative frequency of how often a point was classified as outlier. This way, I also get a probability how likely a point is to be an outlier! Neat!\n",
    "\n",
    "I experimented a bit which settings work best and I found that for a data set as big as this one, fitting on 1% of the data gives good results.I'm using 50 iterations but found 30 to 40 iterations to also work fine. Around 30 iterations seems to be the lowest number of iterations that still gives relatively stable results. If you use lower number of iterations, you'll end up with a very different number of outliers each time you run it.\n"
   ]
  },
  {
   "cell_type": "code",
   "execution_count": null,
   "metadata": {
    "echo": true
   },
   "outputs": [],
   "source": [
    "def prob_outlier(outlier_detector_pipe, data, iterations=50, p=0.01):\n",
    "    \"\"\"repeatedly performs outlier detection on samples of the data set\n",
    "    and then computes the relative frequency of how often a point was \n",
    "    classified as an outlier.\"\"\"\n",
    "    sample_size = int(len(data) * p)\n",
    "\n",
    "    outlier_ar = np.empty((0, len(data)) )\n",
    "    for i in range(iterations):\n",
    "        outlier_detector_pipe.fit(data.sample(sample_size))\n",
    "\n",
    "        outlier_ar = np.append(outlier_ar,  \n",
    "                                [outlier_detector_pipe.predict(data)], \n",
    "                                axis=0)\n",
    "\n",
    "    outlier = (outlier_ar == -1).mean(axis=0)\n",
    "    return outlier\n",
    "\n",
    "num_cols = [\"logRent\", \"logSpace\"]\n",
    "np.random.seed(20)\n",
    "d[\"outlier\"] = prob_outlier(pipe, d[num_cols])"
   ]
  },
  {
   "cell_type": "markdown",
   "metadata": {},
   "source": [
    "After thus obtaining outlier probabilities, we can have a short look at the distribution of the outlier probabilities:\n"
   ]
  },
  {
   "cell_type": "code",
   "execution_count": null,
   "metadata": {},
   "outputs": [],
   "source": [
    "hist = plt.hist(d[\"outlier\"], log=True, bins=30, ec=\"darkblue\")\n",
    "plt.title(\"Distribution of outlier probabilities\")\n",
    "plt.xlabel(\"Probability\")\n",
    "plt.ylabel(\"Counts (in log-scale)\")\n",
    "plt.show()"
   ]
  },
  {
   "cell_type": "markdown",
   "metadata": {},
   "source": [
    "Most points are never classified as outliers, makes sense, most points should not be outlier. There is a small number of points that always get classified as outliers, these are most likely the very extreme outliers.  \n",
    "I will use a rather conservative threshold and declare everything above 0.97 as outlier:\n"
   ]
  },
  {
   "cell_type": "code",
   "execution_count": null,
   "metadata": {
    "echo": true
   },
   "outputs": [],
   "source": [
    "np.sum(d[\"outlier\"] > 0.97)"
   ]
  },
  {
   "cell_type": "markdown",
   "metadata": {},
   "source": [
    "Remember, with the IQR rule we identified around 1500 outliers and with the Gaussian mixture around 1700.   \n",
    "We reduced the number of outliers by more than half! If you care about throwing away as little as possible, this is great! And even if you want to throw away more, it is very easy to change the threshold to be less conservative.\n",
    "\n",
    "Let's have a look at the points we detect as outliers:\n"
   ]
  },
  {
   "cell_type": "code",
   "execution_count": null,
   "metadata": {
    "echo": true,
    "lines_to_next_cell": 0
   },
   "outputs": [],
   "source": [
    "fig, ax  = plt.subplots(dpi=120)\n",
    "d[\"outlier_pred\"] = np.where(d[\"outlier\"] > 0.97, \n",
    "                            \"outlier\", \"no_outlier\")\n",
    "max_space = d[d.outlier_pred == \"no_outlier\"].livingSpace.max()\n",
    "max_rent = d[d.outlier_pred == \"no_outlier\"].totalRent.max()\n",
    "\n",
    "sc = ax.scatter(x=d[d.outlier_pred == \"no_outlier\"].livingSpace_m, \n",
    "              y=d[d.outlier_pred == \"no_outlier\"].totalRent_m, \n",
    "              label=\"Not Outlier\", s=6, c=blue, alpha=0.6,)\n",
    "sc = ax.scatter(x=d[d.outlier_pred == \"outlier\"].livingSpace_m, \n",
    "              y=d[d.outlier_pred == \"outlier\"].totalRent_m, \n",
    "              label=\"Outlier\", s=6, c=red, alpha=0.6,)"
   ]
  },
  {
   "cell_type": "code",
   "execution_count": null,
   "metadata": {},
   "outputs": [],
   "source": [
    "ax.set_title(\"Using enhanced GMM for Outlier Detection\")\n",
    "ax.set_xlabel(\"Living Space [sqm]\")\n",
    "ax.set_ylabel(\"Total Rent [€]\")\n",
    "left, right = ax.set_xlim(-40, max_space + 100)\n",
    "bottom, top = ax.set_ylim(-500, max_rent + 400)\n",
    "plt.show()"
   ]
  },
  {
   "cell_type": "markdown",
   "metadata": {},
   "source": [
    "We still remove all the extreme outliers (good!) and all flats where either the living space or total rent is very close to zero. Compared to above, the method removes much less of the very small but expensive flats.\n",
    "We can have a look at the descriptions of some of the outliers:\n"
   ]
  },
  {
   "cell_type": "code",
   "execution_count": null,
   "metadata": {
    "echo": false,
    "lines_to_next_cell": 0
   },
   "outputs": [],
   "source": [
    "temp = d[[\"totalRent\", \"livingSpace\",\"regio2\", \"description\", ]][d.outlier_pred == \"outlier\"].head(10)"
   ]
  },
  {
   "cell_type": "code",
   "execution_count": null,
   "metadata": {
    "echo": false,
    "lines_to_next_cell": 2
   },
   "outputs": [],
   "source": [
    "%%R\n",
    "py$temp %>%\n",
    "    as_tibble() %>%\n",
    "    mutate(description = substr(description, 1, 75)) %>%\n",
    "    knitr::kable(\"html\") %>%\n",
    "    kableExtra::kable_styling(bootstrap_options = \"striped\")"
   ]
  },
  {
   "cell_type": "markdown",
   "metadata": {},
   "source": [
    "We see a few objects for which it seems someone just forgot to enter the correct living space. Quite a few others are boarding houses and short term rentals. The lorem ipsum flat for more than 4000€ has also correctly been identified as outlier. There's one penthouse in Munich for 20,000€ where I'm not sure if it might be the real total rent, I'm not really familiar with rental prices of penthouses."
   ]
  },
  {
   "cell_type": "markdown",
   "metadata": {},
   "source": [
    "## Going beyond two dimensions\n",
    "A nice thing about the Gaussian mixture outlier detection method is, that it can easily be extended to more than two columns. In this data set for example there are two more variables that also commonly have input errors: the number of rooms and the construction year.\n",
    "For the construction year, we have different options to use it in our model: either use as is or use the log transformed age of a building. Unfortunately, both ways have disadvantages: If we use the construction year as is, we will detect many very old houses as outliers and even though buildings from the middle age are rare, Germany has quite a few cities with many very old buildings. If instead we use the log transformed age, we miss many outliers: there are for example suspiciously many buildings constructed in 1111. For these kind of outliers, we would need a different approach. \n",
    "For this analysis, I used the log transformed age and also log transformed the number of rooms. The later helps in identifying cases where the number of rooms is too high for the amount of living space. As a high number of observations also do not have a construction year, I will do this part only on a subset.\n"
   ]
  },
  {
   "cell_type": "code",
   "execution_count": null,
   "metadata": {
    "echo": true
   },
   "outputs": [],
   "source": [
    "d[\"age\"] = 2021.5 - d[\"yearConstructed\"]\n",
    "d[\"logAge\"] = np.log(d[\"age\"])\n",
    "d[\"logRooms\"] = np.log(d[\"noRooms\"])\n",
    "\n",
    "mask = d[\"logAge\"].notnull()\n",
    "ds = d[mask].copy()\n",
    "\n",
    "ds[\"outlier\"] = np.nan\n",
    "ds[\"outlier\"] = prob_outlier(pipe, \n",
    "            ds[[\"logRent\", \"logSpace\", \"logRooms\", \"logAge\"]])"
   ]
  },
  {
   "cell_type": "markdown",
   "metadata": {
    "lines_to_next_cell": 0
   },
   "source": [
    "Let's have a look at a few examples identified as outlier:"
   ]
  },
  {
   "cell_type": "code",
   "execution_count": null,
   "metadata": {
    "echo": false,
    "lines_to_next_cell": 0
   },
   "outputs": [],
   "source": [
    "temp2 = ds[ds.outlier >= 0.8][[\"totalRent\", \"yearConstructed\", \"livingSpace\", \"noRooms\", \"description\"]]\\\n",
    "    .sort_values(by=\"noRooms\", ascending=False)\\\n",
    "    .head(10)"
   ]
  },
  {
   "cell_type": "code",
   "execution_count": null,
   "metadata": {
    "echo": false
   },
   "outputs": [],
   "source": [
    "%%R\n",
    "py$temp2 %>%\n",
    "    as_tibble() %>%\n",
    "    mutate(description = substr(description, 1, 75)) %>%\n",
    "    knitr::kable(\"html\") %>%\n",
    "    kableExtra::kable_styling(bootstrap_options = \"striped\")"
   ]
  },
  {
   "cell_type": "markdown",
   "metadata": {},
   "source": [
    "They are quite a few cases where whole appartment blocks are sold for which the living space and total rent often denotes the living space and total rent of a single unit but the number of rooms denote the total number of appartments that are up for rent. \n",
    "\n",
    "Let's have a short look at the plot for living space versus number of rooms:"
   ]
  },
  {
   "cell_type": "code",
   "execution_count": null,
   "metadata": {},
   "outputs": [],
   "source": [
    "fig, ax  = plt.subplots(dpi=120)\n",
    "ds[\"outlier_pred\"] = np.where(ds[\"outlier\"] >= 0.8, \"outlier\", \"no_outlier\")\n",
    "max_space = ds[(ds.outlier_pred == \"no_outlier\") ].livingSpace.max()\n",
    "max_rooms = ds[(ds.outlier_pred == \"no_outlier\") ].noRooms.max()\n",
    "ax.scatter(x=ds[ds.outlier_pred == \"no_outlier\"].livingSpace_m, c=blue, alpha=0.6,\n",
    "              y=ds[ds.outlier_pred == \"no_outlier\"].noRooms, label=\"Not Outlier\", s=6)\n",
    "ax.scatter(x=ds[ds.outlier_pred == \"outlier\"].livingSpace_m, c=red, alpha=0.6,\n",
    "              y=ds[ds.outlier_pred == \"outlier\"].noRooms, label=\"Outlier\", s=6)\n",
    "\n",
    "left, right = ax.set_xlim(-40, max_space + 200)\n",
    "bottom, top = ax.set_ylim(-1, max_rooms + 2)\n",
    "ax.set_xlabel(\"Living Space [sqm]\")\n",
    "ax.set_ylabel(\"Number of Rooms\")\n",
    "ax.set_title(\"Enhanced Outlier Detection\\n Number of Rooms vs Living Space\")\n",
    "plt.show()"
   ]
  },
  {
   "cell_type": "markdown",
   "metadata": {},
   "source": [
    "The method identifies everything with more than 15 rooms as outlier and cases with a a very small living space (around less than 30sqm) with too many rooms as outliers. Great! It also thinks that flats with a very large living area above e.g. 100sqm but with only one room are likely outliers. That sounds very reasonable. \n",
    "\n",
    "## Summary\n",
    "\n",
    "In general, outlier detection is a hard problem: what constitutes an outlier is often not obvious and can depend on the context. I found it useful to check a few cases by hand and see if I can identify an underlying cause.  \n",
    "\n",
    "Sometimes, we can take advantage of domain knowledge and then identify these problematic cases in a more efficient way. For example, this data contained many shared flats with misleading values for the living space. A simple regex might be very efficient to identify these cases. "
   ]
  },
  {
   "cell_type": "markdown",
   "metadata": {},
   "source": [
    "Results improve significantly if variables are transformed appropriately. Both the Gaussian mixture method and the IQR rule assume that the data follow a normal distribution and results are suboptimal if our data does not. <br>\n",
    "Of course, other outlier detection methods don't assume normality but they always assume something and it is important to be aware which assumptions are being made and to make sure they are met. \n",
    "\n",
    "The assumptions also determine what kind of outliers can be detected. The methods used in this analysis assume normality and then define outliers as points that don't follow normality, i.e. that are far from the center. Thus, they can't detect outliers such as flats built in 1111. There definitely are quite a few real offers in this data built aroud the 10th century but most flats built in 1111 were probably just people being lazy when inputting the construction year."
   ]
  },
  {
   "cell_type": "markdown",
   "metadata": {},
   "source": [
    "[Link](https://github.com/corriebar/blogdown_source/content/post/2020/2020-02-24-outlier-handling-2.ipynb) to the jupyter notebook used to make this blogpost."
   ]
  }
 ],
 "metadata": {
  "jupytext": {
   "cell_metadata_filter": "tags,echo,-all",
   "main_language": "python",
   "notebook_metadata_filter": "-all"
  },
  "kernelspec": {
   "display_name": "blogdown_source",
   "language": "python",
   "name": "blogdown_source"
  },
  "language_info": {
   "codemirror_mode": {
    "name": "ipython",
    "version": 3
   },
   "file_extension": ".py",
   "mimetype": "text/x-python",
   "name": "python",
   "nbconvert_exporter": "python",
   "pygments_lexer": "ipython3",
   "version": "3.7.4"
  }
 },
 "nbformat": 4,
 "nbformat_minor": 4
}
